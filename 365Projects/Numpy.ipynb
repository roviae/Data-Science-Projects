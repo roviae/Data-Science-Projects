{
 "cells": [
  {
   "cell_type": "code",
   "execution_count": 3,
   "id": "7d23b20b",
   "metadata": {},
   "outputs": [
    {
     "name": "stdout",
     "output_type": "stream",
     "text": [
      "1\n",
      "2\n",
      "3\n",
      "4\n",
      "end of loop\n"
     ]
    }
   ],
   "source": [
    "s = { 1, 2, 3, 4}\n",
    "for x in s:\n",
    "    print(x)\n",
    "else:\n",
    "    print(\"end of loop\")"
   ]
  },
  {
   "cell_type": "code",
   "execution_count": 11,
   "id": "99e873f9",
   "metadata": {},
   "outputs": [
    {
     "name": "stdout",
     "output_type": "stream",
     "text": [
      "0, 1, 2, 3, 4, 5, 6, 7, 8, 9, "
     ]
    }
   ],
   "source": [
    "for x in range(10):\n",
    "    print(x,end=\", \")"
   ]
  },
  {
   "cell_type": "code",
   "execution_count": null,
   "id": "cca72724",
   "metadata": {},
   "outputs": [],
   "source": [
    "n = 1\n",
    "while n < 5:\n",
    "    n + 1\n",
    "    print(n, end=\", \")\n",
    "    \n"
   ]
  },
  {
   "cell_type": "code",
   "execution_count": null,
   "id": "b0249e2b",
   "metadata": {},
   "outputs": [],
   "source": [
    "while n<4:\n",
    "    print(n)\n",
    "    n++1"
   ]
  },
  {
   "cell_type": "code",
   "execution_count": null,
   "id": "6a486ba4",
   "metadata": {},
   "outputs": [],
   "source": [
    "def func(sum = 1):\n",
    "    print(sum)\n",
    "    \n"
   ]
  },
  {
   "cell_type": "code",
   "execution_count": null,
   "id": "63e487b6",
   "metadata": {},
   "outputs": [],
   "source": [
    "func(3)"
   ]
  },
  {
   "cell_type": "code",
   "execution_count": null,
   "id": "af3338bf",
   "metadata": {},
   "outputs": [],
   "source": [
    "import numpy as np"
   ]
  },
  {
   "cell_type": "code",
   "execution_count": null,
   "id": "8379ddae",
   "metadata": {},
   "outputs": [],
   "source": [
    "a = np.array([1,2,3,5,7])"
   ]
  },
  {
   "cell_type": "code",
   "execution_count": null,
   "id": "be6c483d",
   "metadata": {},
   "outputs": [],
   "source": [
    "b = np.array((2,3,4,5,6))"
   ]
  },
  {
   "cell_type": "code",
   "execution_count": null,
   "id": "3efd4f9f",
   "metadata": {},
   "outputs": [],
   "source": [
    "print(a)"
   ]
  },
  {
   "cell_type": "code",
   "execution_count": null,
   "id": "73cc327e",
   "metadata": {},
   "outputs": [],
   "source": []
  }
 ],
 "metadata": {
  "kernelspec": {
   "display_name": "Python 3 (ipykernel)",
   "language": "python",
   "name": "python3"
  },
  "language_info": {
   "codemirror_mode": {
    "name": "ipython",
    "version": 3
   },
   "file_extension": ".py",
   "mimetype": "text/x-python",
   "name": "python",
   "nbconvert_exporter": "python",
   "pygments_lexer": "ipython3",
   "version": "3.11.5"
  }
 },
 "nbformat": 4,
 "nbformat_minor": 5
}
