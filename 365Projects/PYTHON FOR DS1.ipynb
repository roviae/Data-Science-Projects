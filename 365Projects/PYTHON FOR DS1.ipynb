{
 "cells": [
  {
   "cell_type": "code",
   "execution_count": 1,
   "id": "7102d649",
   "metadata": {},
   "outputs": [
    {
     "name": "stdout",
     "output_type": "stream",
     "text": [
      "Hello World!\n"
     ]
    }
   ],
   "source": [
    "print('Hello World!')"
   ]
  },
  {
   "cell_type": "code",
   "execution_count": 2,
   "id": "be943d59",
   "metadata": {},
   "outputs": [
    {
     "name": "stdout",
     "output_type": "stream",
     "text": [
      "5\n"
     ]
    }
   ],
   "source": [
    "print(2 + 3)"
   ]
  },
  {
   "cell_type": "markdown",
   "id": "4d37d963",
   "metadata": {},
   "source": [
    "# first notebook\n"
   ]
  },
  {
   "cell_type": "code",
   "execution_count": 3,
   "id": "b541f7e3",
   "metadata": {},
   "outputs": [
    {
     "name": "stdout",
     "output_type": "stream",
     "text": [
      "nav notebook\n"
     ]
    }
   ],
   "source": [
    "print('nav notebook')"
   ]
  },
  {
   "cell_type": "code",
   "execution_count": 4,
   "id": "8d64e5c2",
   "metadata": {},
   "outputs": [
    {
     "name": "stdout",
     "output_type": "stream",
     "text": [
      "22\n"
     ]
    }
   ],
   "source": [
    "x = 22\n",
    "print(x)"
   ]
  },
  {
   "cell_type": "code",
   "execution_count": 5,
   "id": "913bfb02",
   "metadata": {},
   "outputs": [
    {
     "data": {
      "text/plain": [
       "int"
      ]
     },
     "execution_count": 5,
     "metadata": {},
     "output_type": "execute_result"
    }
   ],
   "source": [
    "type(x)\n"
   ]
  },
  {
   "cell_type": "code",
   "execution_count": 6,
   "id": "879b8c33",
   "metadata": {},
   "outputs": [
    {
     "name": "stdout",
     "output_type": "stream",
     "text": [
      "Mint chocolate chip\n"
     ]
    }
   ],
   "source": [
    "y = 'Mint chocolate chip'\n",
    "print(y)"
   ]
  },
  {
   "cell_type": "code",
   "execution_count": 7,
   "id": "6ebe367c",
   "metadata": {},
   "outputs": [
    {
     "data": {
      "text/plain": [
       "str"
      ]
     },
     "execution_count": 7,
     "metadata": {},
     "output_type": "execute_result"
    }
   ],
   "source": [
    "type(y)"
   ]
  },
  {
   "cell_type": "code",
   "execution_count": 8,
   "id": "1b1f498a",
   "metadata": {},
   "outputs": [
    {
     "name": "stdout",
     "output_type": "stream",
     "text": [
      "chocolate\n",
      "vanilla\n",
      "rockyroad\n"
     ]
    }
   ],
   "source": [
    "x ,y,z = 'chocolate', 'vanilla', 'rockyroad'\n",
    "print(x)\n",
    "print(y)\n",
    "print(z)"
   ]
  },
  {
   "cell_type": "code",
   "execution_count": 9,
   "id": "9f2c81da",
   "metadata": {},
   "outputs": [
    {
     "name": "stdout",
     "output_type": "stream",
     "text": [
      "chocolate\n",
      "vanilla\n",
      "rockyroad\n"
     ]
    }
   ],
   "source": [
    "ice_cream = ['chocolate', 'vanilla', 'rockyroad']\n",
    "x,y,z = ice_cream\n",
    "print(x)\n",
    "print(y)\n",
    "print(z)"
   ]
  },
  {
   "cell_type": "code",
   "execution_count": 10,
   "id": "6bf37e0e",
   "metadata": {},
   "outputs": [],
   "source": [
    "#Camel case = testvanillaTest\n",
    "#Pascal case = TestvanillaTest\n",
    "#snake case = test_variable_case"
   ]
  },
  {
   "cell_type": "code",
   "execution_count": 11,
   "id": "20808af8",
   "metadata": {},
   "outputs": [
    {
     "name": "stdout",
     "output_type": "stream",
     "text": [
      " ice cream is my favorite\n"
     ]
    }
   ],
   "source": [
    "x =' ice cream '\n",
    "y = 'is'\n",
    "z = ' my favorite'\n",
    "print(x + y + z)"
   ]
  },
  {
   "cell_type": "code",
   "execution_count": 12,
   "id": "09dc4211",
   "metadata": {},
   "outputs": [
    {
     "data": {
      "text/plain": [
       "int"
      ]
     },
     "execution_count": 12,
     "metadata": {},
     "output_type": "execute_result"
    }
   ],
   "source": [
    "type(12)"
   ]
  },
  {
   "cell_type": "code",
   "execution_count": 13,
   "id": "dd0bd50c",
   "metadata": {},
   "outputs": [
    {
     "data": {
      "text/plain": [
       "int"
      ]
     },
     "execution_count": 13,
     "metadata": {},
     "output_type": "execute_result"
    }
   ],
   "source": [
    "type(-14)"
   ]
  },
  {
   "cell_type": "code",
   "execution_count": 14,
   "id": "b0450d7d",
   "metadata": {},
   "outputs": [
    {
     "data": {
      "text/plain": [
       "int"
      ]
     },
     "execution_count": 14,
     "metadata": {},
     "output_type": "execute_result"
    }
   ],
   "source": [
    "type(-12 + 100)"
   ]
  },
  {
   "cell_type": "code",
   "execution_count": 15,
   "id": "32b11b77",
   "metadata": {},
   "outputs": [
    {
     "data": {
      "text/plain": [
       "float"
      ]
     },
     "execution_count": 15,
     "metadata": {},
     "output_type": "execute_result"
    }
   ],
   "source": [
    "type(2 + 10.2)"
   ]
  },
  {
   "cell_type": "code",
   "execution_count": 16,
   "id": "bea3a78d",
   "metadata": {},
   "outputs": [
    {
     "data": {
      "text/plain": [
       "complex"
      ]
     },
     "execution_count": 16,
     "metadata": {},
     "output_type": "execute_result"
    }
   ],
   "source": [
    "type(12 + 3j)"
   ]
  },
  {
   "cell_type": "code",
   "execution_count": 17,
   "id": "9fccd77c",
   "metadata": {},
   "outputs": [],
   "source": [
    "#Boolean true/False\n",
    "\n"
   ]
  },
  {
   "cell_type": "code",
   "execution_count": 18,
   "id": "e6ef0fea",
   "metadata": {},
   "outputs": [
    {
     "data": {
      "text/plain": [
       "bool"
      ]
     },
     "execution_count": 18,
     "metadata": {},
     "output_type": "execute_result"
    }
   ],
   "source": [
    "type(True)"
   ]
  },
  {
   "cell_type": "code",
   "execution_count": 19,
   "id": "482370a2",
   "metadata": {},
   "outputs": [
    {
     "data": {
      "text/plain": [
       "bool"
      ]
     },
     "execution_count": 19,
     "metadata": {},
     "output_type": "execute_result"
    }
   ],
   "source": [
    "type(False)\n"
   ]
  },
  {
   "cell_type": "code",
   "execution_count": 20,
   "id": "b2449aad",
   "metadata": {},
   "outputs": [
    {
     "data": {
      "text/plain": [
       "bool"
      ]
     },
     "execution_count": 20,
     "metadata": {},
     "output_type": "execute_result"
    }
   ],
   "source": [
    "type(1 > 2)"
   ]
  },
  {
   "cell_type": "code",
   "execution_count": 21,
   "id": "b549db3c",
   "metadata": {},
   "outputs": [
    {
     "data": {
      "text/plain": [
       "True"
      ]
     },
     "execution_count": 21,
     "metadata": {},
     "output_type": "execute_result"
    }
   ],
   "source": [
    "1 == 1"
   ]
  },
  {
   "cell_type": "code",
   "execution_count": 22,
   "id": "a1b37db0",
   "metadata": {},
   "outputs": [
    {
     "data": {
      "text/plain": [
       "False"
      ]
     },
     "execution_count": 22,
     "metadata": {},
     "output_type": "execute_result"
    }
   ],
   "source": [
    "   3 > 5"
   ]
  },
  {
   "cell_type": "code",
   "execution_count": 23,
   "id": "e0bc7a0a",
   "metadata": {},
   "outputs": [],
   "source": [
    "#sequence data types\n",
    "#strings, lists, tuples"
   ]
  },
  {
   "cell_type": "code",
   "execution_count": 24,
   "id": "507821fc",
   "metadata": {},
   "outputs": [
    {
     "data": {
      "text/plain": [
       "'single quote'"
      ]
     },
     "execution_count": 24,
     "metadata": {},
     "output_type": "execute_result"
    }
   ],
   "source": [
    "'single quote'"
   ]
  },
  {
   "cell_type": "code",
   "execution_count": 25,
   "id": "cde8b013",
   "metadata": {},
   "outputs": [
    {
     "data": {
      "text/plain": [
       "'double quote'"
      ]
     },
     "execution_count": 25,
     "metadata": {},
     "output_type": "execute_result"
    }
   ],
   "source": [
    "\"double quote\""
   ]
  },
  {
   "cell_type": "code",
   "execution_count": 26,
   "id": "0483413a",
   "metadata": {},
   "outputs": [
    {
     "ename": "SyntaxError",
     "evalue": "invalid syntax (659043317.py, line 1)",
     "output_type": "error",
     "traceback": [
      "\u001b[1;36m  Cell \u001b[1;32mIn[26], line 1\u001b[1;36m\u001b[0m\n\u001b[1;33m    x =\u001b[0m\n\u001b[1;37m       ^\u001b[0m\n\u001b[1;31mSyntaxError\u001b[0m\u001b[1;31m:\u001b[0m invalid syntax\n"
     ]
    }
   ],
   "source": [
    "x =\n",
    "\"\"\"\n",
    "Everyday is a new day from the master\n",
    "As the sun rises till it sets,\n",
    "It is a new chance to make yourself better \n",
    "Make the world a better place also\n",
    "\"\"\"\n",
    "print(x)"
   ]
  },
  {
   "cell_type": "code",
   "execution_count": null,
   "id": "66ca185a",
   "metadata": {},
   "outputs": [],
   "source": [
    "x = 'hello'\n",
    "print(x)"
   ]
  },
  {
   "cell_type": "code",
   "execution_count": null,
   "id": "acde6ebf",
   "metadata": {},
   "outputs": [],
   "source": [
    "[1,2,3]"
   ]
  },
  {
   "cell_type": "code",
   "execution_count": null,
   "id": "008b9139",
   "metadata": {},
   "outputs": [],
   "source": [
    "['cookie dough', 'strawberry', 'chocolate']"
   ]
  },
  {
   "cell_type": "code",
   "execution_count": null,
   "id": "9468c570",
   "metadata": {},
   "outputs": [],
   "source": [
    "['vanilla', 3, ['scoops', 'spoon'], True]"
   ]
  },
  {
   "cell_type": "code",
   "execution_count": null,
   "id": "058a49a1",
   "metadata": {},
   "outputs": [],
   "source": [
    "ice_cream = ['cookie dough', 'strawberry', 'chocolate']\n",
    "\n",
    "ice_cream.append('salted caramel')\n",
    "ice_cream"
   ]
  },
  {
   "cell_type": "code",
   "execution_count": null,
   "id": "d913fa68",
   "metadata": {},
   "outputs": [],
   "source": [
    "ice_cream[0] ='Butter peacan'\n",
    "ice_cream"
   ]
  },
  {
   "cell_type": "code",
   "execution_count": null,
   "id": "568edf69",
   "metadata": {},
   "outputs": [],
   "source": [
    " nested_list = ['vanilla', 3, ['scoops', 'spoon'], True]\n",
    "nested_list[2][1]"
   ]
  },
  {
   "cell_type": "code",
   "execution_count": null,
   "id": "ac60cbbe",
   "metadata": {},
   "outputs": [],
   "source": [
    "#Tuple immutable/cannot be changed"
   ]
  },
  {
   "cell_type": "code",
   "execution_count": null,
   "id": "217314dc",
   "metadata": {},
   "outputs": [],
   "source": [
    "tuple_scoops = (1,2,3,2,1)"
   ]
  },
  {
   "cell_type": "code",
   "execution_count": null,
   "id": "70200799",
   "metadata": {},
   "outputs": [],
   "source": [
    "type(tuple_scoops)"
   ]
  },
  {
   "cell_type": "code",
   "execution_count": null,
   "id": "774ed948",
   "metadata": {},
   "outputs": [],
   "source": [
    "#use if for things that cannot change i.e cities(tuples)"
   ]
  },
  {
   "cell_type": "code",
   "execution_count": null,
   "id": "c59e4c81",
   "metadata": {},
   "outputs": [],
   "source": [
    "#sets no duplicate elements/ no indexes but we can loop thru"
   ]
  },
  {
   "cell_type": "code",
   "execution_count": null,
   "id": "d69586a0",
   "metadata": {},
   "outputs": [],
   "source": [
    "daily_pints = {1,2,3}"
   ]
  },
  {
   "cell_type": "code",
   "execution_count": null,
   "id": "3d5288c6",
   "metadata": {},
   "outputs": [],
   "source": [
    "type(daily_pints)"
   ]
  },
  {
   "cell_type": "code",
   "execution_count": null,
   "id": "a192d15a",
   "metadata": {},
   "outputs": [],
   "source": [
    " print(daily_pints)"
   ]
  },
  {
   "cell_type": "code",
   "execution_count": null,
   "id": "d9f15ef6",
   "metadata": {},
   "outputs": [],
   "source": [
    "daily_pints_log = {1,2,3,4,30,28,91,2,45,6,3,1}\n",
    "print(daily_pints_log)"
   ]
  },
  {
   "cell_type": "code",
   "execution_count": null,
   "id": "ec66d841",
   "metadata": {},
   "outputs": [],
   "source": [
    "wifes_daily_pints_log = {1,3,4,7,45,91,4,80,21,38,91,1}"
   ]
  },
  {
   "cell_type": "code",
   "execution_count": null,
   "id": "ad68f580",
   "metadata": {},
   "outputs": [],
   "source": [
    " print(daily_pints_log | wifes_daily_pints_log )"
   ]
  },
  {
   "cell_type": "code",
   "execution_count": null,
   "id": "04ffed44",
   "metadata": {},
   "outputs": [],
   "source": [
    "print(daily_pints_log & wifes_daily_pints_log )"
   ]
  },
  {
   "cell_type": "code",
   "execution_count": null,
   "id": "ab16fb24",
   "metadata": {},
   "outputs": [],
   "source": [
    "print(daily_pints_log - wifes_daily_pints_log)"
   ]
  },
  {
   "cell_type": "code",
   "execution_count": null,
   "id": "7c2058be",
   "metadata": {},
   "outputs": [],
   "source": [
    "print(daily_pints_log ^ wifes_daily_pints_log)"
   ]
  },
  {
   "cell_type": "code",
   "execution_count": null,
   "id": "59f0ee45",
   "metadata": {},
   "outputs": [],
   "source": [
    "#Dictionaries\n",
    "#key/value pair"
   ]
  },
  {
   "cell_type": "code",
   "execution_count": null,
   "id": "89b13c5a",
   "metadata": {},
   "outputs": [],
   "source": [
    "dict_cream = {'name': 'Kiage Lydiah', 'weekly intake': 5, 'favorite ice creams': ['mcc', 'chocolate', 'vanilla']}\n",
    "type(dict_cream)"
   ]
  },
  {
   "cell_type": "code",
   "execution_count": null,
   "id": "a252a6c4",
   "metadata": {},
   "outputs": [],
   "source": [
    "print(dict_cream)"
   ]
  },
  {
   "cell_type": "code",
   "execution_count": null,
   "id": "3e5c20c1",
   "metadata": {},
   "outputs": [],
   "source": [
    "dict_cream.values()"
   ]
  },
  {
   "cell_type": "code",
   "execution_count": null,
   "id": "6c0485f1",
   "metadata": {},
   "outputs": [],
   "source": [
    "dict_cream.keys()"
   ]
  },
  {
   "cell_type": "code",
   "execution_count": null,
   "id": "ffb5fffc",
   "metadata": {},
   "outputs": [],
   "source": [
    "dict_cream.items()"
   ]
  },
  {
   "cell_type": "code",
   "execution_count": null,
   "id": "fe69f0e7",
   "metadata": {},
   "outputs": [],
   "source": [
    "dict_cream['name']"
   ]
  },
  {
   "cell_type": "code",
   "execution_count": null,
   "id": "863805d5",
   "metadata": {},
   "outputs": [],
   "source": [
    "##dict_cream.update"
   ]
  },
  {
   "cell_type": "code",
   "execution_count": null,
   "id": "fdd6c895",
   "metadata": {},
   "outputs": [],
   "source": [
    "#del dict_cream['weight']\n"
   ]
  },
  {
   "cell_type": "code",
   "execution_count": null,
   "id": "2a38f5fc",
   "metadata": {},
   "outputs": [],
   "source": [
    "#membership operators in and not in"
   ]
  },
  {
   "cell_type": "code",
   "execution_count": null,
   "id": "570586a7",
   "metadata": {},
   "outputs": [],
   "source": [
    " ice_cream = 'vanilla is sweet'\n",
    "'vanilla' in ice_cream"
   ]
  },
  {
   "cell_type": "code",
   "execution_count": null,
   "id": "7742f10e",
   "metadata": {},
   "outputs": [],
   "source": [
    "scoops = 8\n",
    "scoops_count = (1,2,3,4,5)\n",
    "scoops in scoops_count"
   ]
  },
  {
   "cell_type": "code",
   "execution_count": null,
   "id": "69d599b7",
   "metadata": {},
   "outputs": [],
   "source": [
    "#if elif else statements"
   ]
  },
  {
   "cell_type": "code",
   "execution_count": null,
   "id": "ebb0ad35",
   "metadata": {},
   "outputs": [],
   "source": [
    "if 25 > 10:\n",
    "    print(\"It worked\")"
   ]
  },
  {
   "cell_type": "code",
   "execution_count": null,
   "id": "7a5d222b",
   "metadata": {},
   "outputs": [],
   "source": [
    "if 25 < 10:\n",
    "    print(\"It worked!\")\n",
    "else:\n",
    "    print(\"It didn't work...\")"
   ]
  },
  {
   "cell_type": "code",
   "execution_count": null,
   "id": "1bdb562b",
   "metadata": {},
   "outputs": [],
   "source": [
    "if (25 < 10 ):\n",
    "    print(\"It worked!\")\n",
    "elif 25 < 30:\n",
    "    print('elif worked')\n",
    "else:\n",
    "    print(\"It didn't work...\")"
   ]
  },
  {
   "cell_type": "code",
   "execution_count": null,
   "id": "f3a86257",
   "metadata": {},
   "outputs": [],
   "source": [
    "#for loops"
   ]
  },
  {
   "cell_type": "code",
   "execution_count": null,
   "id": "d9cd64da",
   "metadata": {},
   "outputs": [],
   "source": [
    "integers = [1,2,3,4,5]"
   ]
  },
  {
   "cell_type": "code",
   "execution_count": null,
   "id": "f90dac5c",
   "metadata": {},
   "outputs": [],
   "source": [
    "for number in integers:\n",
    "    print(number)"
   ]
  },
  {
   "cell_type": "code",
   "execution_count": null,
   "id": "2e375a3c",
   "metadata": {},
   "outputs": [],
   "source": [
    "ice_cream_dict = {'name': 'Kiage Lydiah', 'weekly intake': 5, 'favorite ice creams': ['mcc', 'chocolate', 'vanilla']}"
   ]
  },
  {
   "cell_type": "code",
   "execution_count": null,
   "id": "cb53d7fd",
   "metadata": {},
   "outputs": [],
   "source": [
    " for cream in ice_cream_dict.values():\n",
    "        print(cream)"
   ]
  },
  {
   "cell_type": "code",
   "execution_count": null,
   "id": "81f7136e",
   "metadata": {},
   "outputs": [],
   "source": [
    "for key, value in ice_cream_dict.items():\n",
    "        print(key, '->',value)"
   ]
  },
  {
   "cell_type": "code",
   "execution_count": null,
   "id": "a1274613",
   "metadata": {},
   "outputs": [],
   "source": [
    " #while loops"
   ]
  },
  {
   "cell_type": "code",
   "execution_count": null,
   "id": "c0f40c90",
   "metadata": {},
   "outputs": [],
   "source": [
    "number = 0\n",
    "\n",
    "while number < 5:\n",
    "    print(number)\n",
    "    if number == 6:\n",
    "        break\n",
    "    number = number + 1\n",
    "else:\n",
    "    print('No longer < 5')"
   ]
  },
  {
   "cell_type": "code",
   "execution_count": 29,
   "id": "33693e40",
   "metadata": {},
   "outputs": [
    {
     "name": "stdout",
     "output_type": "stream",
     "text": [
      "1\n",
      "2\n",
      "4\n",
      "5\n",
      "No longer < 5\n"
     ]
    }
   ],
   "source": [
    "number = 0\n",
    "\n",
    "while number < 5:\n",
    "    number = number + 1\n",
    "    if number == 3:\n",
    "        continue\n",
    "    print(number)\n",
    "else:\n",
    "    print('No longer < 5')"
   ]
  },
  {
   "cell_type": "code",
   "execution_count": null,
   "id": "b218ad1a",
   "metadata": {},
   "outputs": [],
   "source": [
    "# functions"
   ]
  },
  {
   "cell_type": "code",
   "execution_count": 28,
   "id": "1b2e40b2",
   "metadata": {},
   "outputs": [
    {
     "name": "stdout",
     "output_type": "stream",
     "text": [
      "We did it!\n"
     ]
    }
   ],
   "source": [
    "def first_func():\n",
    "    print(\"We did it!\")\n",
    "    \n",
    "first_func()"
   ]
  },
  {
   "cell_type": "code",
   "execution_count": 30,
   "id": "4ed913a3",
   "metadata": {},
   "outputs": [
    {
     "name": "stdout",
     "output_type": "stream",
     "text": [
      "25\n"
     ]
    }
   ],
   "source": [
    "def number_squared(number):\n",
    "    print(number**2)\n",
    "    \n",
    "number_squared(5)"
   ]
  },
  {
   "cell_type": "code",
   "execution_count": 31,
   "id": "b682312c",
   "metadata": {},
   "outputs": [
    {
     "name": "stdout",
     "output_type": "stream",
     "text": [
      "125\n"
     ]
    }
   ],
   "source": [
    "def number_squared_cust(number,power):\n",
    "    print(number**power)\n",
    "    \n",
    "number_squared_cust(5,3)\n",
    "    "
   ]
  },
  {
   "cell_type": "code",
   "execution_count": 32,
   "id": "ad2bfbeb",
   "metadata": {},
   "outputs": [
    {
     "name": "stdout",
     "output_type": "stream",
     "text": [
      "3125\n"
     ]
    }
   ],
   "source": [
    "number_squared_cust(5,5)"
   ]
  },
  {
   "cell_type": "raw",
   "id": "6165973e",
   "metadata": {},
   "source": [
    "# arbitrary arguments\n"
   ]
  },
  {
   "cell_type": "code",
   "execution_count": 34,
   "id": "572fc624",
   "metadata": {
    "scrolled": true
   },
   "outputs": [
    {
     "name": "stdout",
     "output_type": "stream",
     "text": [
      "8\n"
     ]
    }
   ],
   "source": [
    "def number_args(*number):\n",
    "    print(number[0]*number[1])\n",
    "    \n",
    "number_args(2,4)\n"
   ]
  },
  {
   "cell_type": "raw",
   "id": "e556391c",
   "metadata": {},
   "source": [
    "# converting data types"
   ]
  },
  {
   "cell_type": "code",
   "execution_count": 37,
   "id": "69d10089",
   "metadata": {},
   "outputs": [
    {
     "data": {
      "text/plain": [
       "14"
      ]
     },
     "execution_count": 37,
     "metadata": {},
     "output_type": "execute_result"
    }
   ],
   "source": [
    "num_int = 7\n",
    "num_str = '7'\n",
    "num_sum = num_int + int(num_str)\n",
    "num_sum"
   ]
  },
  {
   "cell_type": "code",
   "execution_count": 38,
   "id": "4ac8fc0e",
   "metadata": {},
   "outputs": [
    {
     "data": {
      "text/plain": [
       "(1, 2, 3)"
      ]
     },
     "execution_count": 38,
     "metadata": {},
     "output_type": "execute_result"
    }
   ],
   "source": [
    "list_type = [1,2,3]\n",
    "tuple(list_type)"
   ]
  },
  {
   "cell_type": "code",
   "execution_count": 39,
   "id": "79563eec",
   "metadata": {},
   "outputs": [
    {
     "data": {
      "text/plain": [
       "{1, 2, 3}"
      ]
     },
     "execution_count": 39,
     "metadata": {},
     "output_type": "execute_result"
    }
   ],
   "source": [
    "lists = [1,2,3,1,2,3]\n",
    "set(lists)"
   ]
  },
  {
   "cell_type": "code",
   "execution_count": null,
   "id": "945a2848",
   "metadata": {},
   "outputs": [],
   "source": []
  }
 ],
 "metadata": {
  "kernelspec": {
   "display_name": "Python 3 (ipykernel)",
   "language": "python",
   "name": "python3"
  },
  "language_info": {
   "codemirror_mode": {
    "name": "ipython",
    "version": 3
   },
   "file_extension": ".py",
   "mimetype": "text/x-python",
   "name": "python",
   "nbconvert_exporter": "python",
   "pygments_lexer": "ipython3",
   "version": "3.11.5"
  }
 },
 "nbformat": 4,
 "nbformat_minor": 5
}
