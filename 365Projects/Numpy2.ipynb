{
 "cells": [
  {
   "cell_type": "code",
   "execution_count": 1,
   "id": "fb2fd864",
   "metadata": {},
   "outputs": [],
   "source": [
    "import numpy as np"
   ]
  },
  {
   "cell_type": "code",
   "execution_count": 2,
   "id": "da2aae42",
   "metadata": {},
   "outputs": [],
   "source": [
    "a = np.array([1,2,3,5,7],dtype='i')"
   ]
  },
  {
   "cell_type": "code",
   "execution_count": 10,
   "id": "1fd52077",
   "metadata": {},
   "outputs": [],
   "source": [
    "b = np.array((2,3,5,6,7),dtype='f')"
   ]
  },
  {
   "cell_type": "code",
   "execution_count": 4,
   "id": "50bc8f35",
   "metadata": {},
   "outputs": [
    {
     "name": "stdout",
     "output_type": "stream",
     "text": [
      "[1 2 3 5 7]\n"
     ]
    }
   ],
   "source": [
    "print(a)"
   ]
  },
  {
   "cell_type": "code",
   "execution_count": 5,
   "id": "f761aaba",
   "metadata": {},
   "outputs": [
    {
     "data": {
      "text/plain": [
       "numpy.ndarray"
      ]
     },
     "execution_count": 5,
     "metadata": {},
     "output_type": "execute_result"
    }
   ],
   "source": [
    "type(a)"
   ]
  },
  {
   "cell_type": "code",
   "execution_count": 6,
   "id": "18144382",
   "metadata": {},
   "outputs": [
    {
     "data": {
      "text/plain": [
       "numpy.ndarray"
      ]
     },
     "execution_count": 6,
     "metadata": {},
     "output_type": "execute_result"
    }
   ],
   "source": [
    "type(b)"
   ]
  },
  {
   "cell_type": "code",
   "execution_count": 8,
   "id": "b2a80891",
   "metadata": {},
   "outputs": [
    {
     "data": {
      "text/plain": [
       "dtype('int32')"
      ]
     },
     "execution_count": 8,
     "metadata": {},
     "output_type": "execute_result"
    }
   ],
   "source": [
    "a.dtype"
   ]
  },
  {
   "cell_type": "code",
   "execution_count": 11,
   "id": "119a61a0",
   "metadata": {},
   "outputs": [
    {
     "data": {
      "text/plain": [
       "dtype('float32')"
      ]
     },
     "execution_count": 11,
     "metadata": {},
     "output_type": "execute_result"
    }
   ],
   "source": [
    "b.dtype"
   ]
  },
  {
   "cell_type": "code",
   "execution_count": 12,
   "id": "c426b596",
   "metadata": {},
   "outputs": [
    {
     "data": {
      "text/plain": [
       "1"
      ]
     },
     "execution_count": 12,
     "metadata": {},
     "output_type": "execute_result"
    }
   ],
   "source": [
    "a.ndim"
   ]
  },
  {
   "cell_type": "code",
   "execution_count": 28,
   "id": "65ce9122",
   "metadata": {},
   "outputs": [],
   "source": [
    "c = np.array([[1,2,3], [4,5,6]])"
   ]
  },
  {
   "cell_type": "code",
   "execution_count": 15,
   "id": "29fe96ba",
   "metadata": {},
   "outputs": [
    {
     "data": {
      "text/plain": [
       "2"
      ]
     },
     "execution_count": 15,
     "metadata": {},
     "output_type": "execute_result"
    }
   ],
   "source": [
    "c.ndim "
   ]
  },
  {
   "cell_type": "code",
   "execution_count": 16,
   "id": "7adc092c",
   "metadata": {},
   "outputs": [
    {
     "data": {
      "text/plain": [
       "3"
      ]
     },
     "execution_count": 16,
     "metadata": {},
     "output_type": "execute_result"
    }
   ],
   "source": [
    "c[0,2]"
   ]
  },
  {
   "cell_type": "code",
   "execution_count": 17,
   "id": "8d7eef93",
   "metadata": {},
   "outputs": [
    {
     "data": {
      "text/plain": [
       "6"
      ]
     },
     "execution_count": 17,
     "metadata": {},
     "output_type": "execute_result"
    }
   ],
   "source": [
    "c[1,2]"
   ]
  },
  {
   "cell_type": "code",
   "execution_count": 29,
   "id": "b71b4ca2",
   "metadata": {},
   "outputs": [
    {
     "data": {
      "text/plain": [
       "array([2, 1])"
      ]
     },
     "execution_count": 29,
     "metadata": {},
     "output_type": "execute_result"
    }
   ],
   "source": [
    "c[[0,0], [1,0]]"
   ]
  },
  {
   "cell_type": "code",
   "execution_count": 31,
   "id": "75b759e8",
   "metadata": {},
   "outputs": [
    {
     "data": {
      "text/plain": [
       "(2, 3)"
      ]
     },
     "execution_count": 31,
     "metadata": {},
     "output_type": "execute_result"
    }
   ],
   "source": [
    "c.shape"
   ]
  },
  {
   "cell_type": "code",
   "execution_count": 35,
   "id": "106e7b08",
   "metadata": {},
   "outputs": [
    {
     "data": {
      "text/plain": [
       "3"
      ]
     },
     "execution_count": 35,
     "metadata": {},
     "output_type": "execute_result"
    }
   ],
   "source": [
    "c.shape[1]"
   ]
  },
  {
   "cell_type": "code",
   "execution_count": 36,
   "id": "1626e64d",
   "metadata": {},
   "outputs": [
    {
     "data": {
      "text/plain": [
       "6"
      ]
     },
     "execution_count": 36,
     "metadata": {},
     "output_type": "execute_result"
    }
   ],
   "source": [
    "c.size"
   ]
  },
  {
   "cell_type": "code",
   "execution_count": 37,
   "id": "8915577d",
   "metadata": {},
   "outputs": [
    {
     "data": {
      "text/plain": [
       "24"
      ]
     },
     "execution_count": 37,
     "metadata": {},
     "output_type": "execute_result"
    }
   ],
   "source": [
    "c.nbytes"
   ]
  },
  {
   "cell_type": "code",
   "execution_count": 38,
   "id": "93048043",
   "metadata": {},
   "outputs": [],
   "source": [
    "A = np.arange(100)"
   ]
  },
  {
   "cell_type": "code",
   "execution_count": 39,
   "id": "0cde9c5f",
   "metadata": {},
   "outputs": [
    {
     "name": "stdout",
     "output_type": "stream",
     "text": [
      "[ 0  1  2  3  4  5  6  7  8  9 10 11 12 13 14 15 16 17 18 19 20 21 22 23\n",
      " 24 25 26 27 28 29 30 31 32 33 34 35 36 37 38 39 40 41 42 43 44 45 46 47\n",
      " 48 49 50 51 52 53 54 55 56 57 58 59 60 61 62 63 64 65 66 67 68 69 70 71\n",
      " 72 73 74 75 76 77 78 79 80 81 82 83 84 85 86 87 88 89 90 91 92 93 94 95\n",
      " 96 97 98 99]\n"
     ]
    }
   ],
   "source": [
    "print(A)"
   ]
  },
  {
   "cell_type": "code",
   "execution_count": 40,
   "id": "b66197ff",
   "metadata": {},
   "outputs": [],
   "source": [
    "B = np.arange(20,100)"
   ]
  },
  {
   "cell_type": "code",
   "execution_count": 41,
   "id": "d049ef95",
   "metadata": {},
   "outputs": [
    {
     "name": "stdout",
     "output_type": "stream",
     "text": [
      "[20 21 22 23 24 25 26 27 28 29 30 31 32 33 34 35 36 37 38 39 40 41 42 43\n",
      " 44 45 46 47 48 49 50 51 52 53 54 55 56 57 58 59 60 61 62 63 64 65 66 67\n",
      " 68 69 70 71 72 73 74 75 76 77 78 79 80 81 82 83 84 85 86 87 88 89 90 91\n",
      " 92 93 94 95 96 97 98 99]\n"
     ]
    }
   ],
   "source": [
    "print(B)"
   ]
  },
  {
   "cell_type": "code",
   "execution_count": 42,
   "id": "07735f55",
   "metadata": {},
   "outputs": [
    {
     "name": "stdout",
     "output_type": "stream",
     "text": [
      "[20 23 26 29 32 35 38 41 44 47 50 53 56 59 62 65 68 71 74 77 80 83 86 89\n",
      " 92 95 98]\n"
     ]
    }
   ],
   "source": [
    "C = np.arange(20,100,3)\n",
    "print(C)"
   ]
  },
  {
   "cell_type": "code",
   "execution_count": 44,
   "id": "2ff1b950",
   "metadata": {},
   "outputs": [
    {
     "name": "stdout",
     "output_type": "stream",
     "text": [
      "[0, 1, 2, 3, 4, 5, 6, 7, 8, 9]\n"
     ]
    }
   ],
   "source": [
    "print(list(range(10)))"
   ]
  },
  {
   "cell_type": "code",
   "execution_count": 46,
   "id": "27c08a24",
   "metadata": {},
   "outputs": [
    {
     "name": "stdout",
     "output_type": "stream",
     "text": [
      "[8 2 3 4 1 5 7 0 9 6]\n"
     ]
    }
   ],
   "source": [
    "D = np.random.permutation(np.arange(10))\n",
    "print(D)"
   ]
  },
  {
   "cell_type": "code",
   "execution_count": 57,
   "id": "57f71b4a",
   "metadata": {},
   "outputs": [
    {
     "name": "stdout",
     "output_type": "stream",
     "text": [
      "119\n"
     ]
    }
   ],
   "source": [
    "v = np.random.randint(20,300)\n",
    "print(v)"
   ]
  },
  {
   "cell_type": "code",
   "execution_count": 56,
   "id": "0b9bce60",
   "metadata": {},
   "outputs": [
    {
     "data": {
      "text/plain": [
       "int"
      ]
     },
     "execution_count": 56,
     "metadata": {},
     "output_type": "execute_result"
    }
   ],
   "source": [
    "type(v)"
   ]
  },
  {
   "cell_type": "code",
   "execution_count": 60,
   "id": "d40b47de",
   "metadata": {},
   "outputs": [
    {
     "name": "stdout",
     "output_type": "stream",
     "text": [
      "[[1 2 3 4 5]\n",
      " [6 7 8 9 2]]\n",
      "[[1 2]\n",
      " [3 4]\n",
      " [5 6]\n",
      " [7 8]\n",
      " [9 2]]\n"
     ]
    }
   ],
   "source": [
    "x = np.array([1,2,3,4,5,6,7,8,9,2])\n",
    "b = x.reshape(2,5)\n",
    "c = x.reshape(5,2)\n",
    "print(b)\n",
    "print(c)"
   ]
  },
  {
   "cell_type": "code",
   "execution_count": 61,
   "id": "b9925538",
   "metadata": {},
   "outputs": [],
   "source": [
    "A = np.random.rand(1000)"
   ]
  },
  {
   "cell_type": "code",
   "execution_count": 64,
   "id": "c3db9260",
   "metadata": {},
   "outputs": [
    {
     "data": {
      "text/plain": [
       "(array([14., 13., 12., 13., 12.,  7., 13., 10.,  6., 14.,  9.,  6., 11.,\n",
       "         6., 13.,  6., 11.,  8., 15., 10., 11., 11.,  6., 11., 13., 16.,\n",
       "        11., 11.,  8., 12.,  8., 14.,  6.,  9.,  9., 11., 10.,  9.,  9.,\n",
       "        10.,  7., 11.,  6., 13., 10.,  5., 10., 13.,  8., 13., 10., 11.,\n",
       "        11., 12.,  8.,  3.,  7., 11.,  9.,  7.,  7., 15.,  8.,  9., 13.,\n",
       "         9.,  7., 16., 12., 12., 10., 12., 12.,  5.,  9., 16., 15., 13.,\n",
       "         7.,  6.,  6., 14.,  6., 18.,  9., 10., 13., 10.,  9.,  9.,  8.,\n",
       "         8.,  7.,  9.,  8.,  9.,  4.,  9., 13.,  9.]),\n",
       " array([4.20366368e-05, 1.00325458e-02, 2.00230551e-02, 3.00135643e-02,\n",
       "        4.00040735e-02, 4.99945827e-02, 5.99850919e-02, 6.99756011e-02,\n",
       "        7.99661103e-02, 8.99566195e-02, 9.99471287e-02, 1.09937638e-01,\n",
       "        1.19928147e-01, 1.29918656e-01, 1.39909166e-01, 1.49899675e-01,\n",
       "        1.59890184e-01, 1.69880693e-01, 1.79871202e-01, 1.89861712e-01,\n",
       "        1.99852221e-01, 2.09842730e-01, 2.19833239e-01, 2.29823748e-01,\n",
       "        2.39814258e-01, 2.49804767e-01, 2.59795276e-01, 2.69785785e-01,\n",
       "        2.79776295e-01, 2.89766804e-01, 2.99757313e-01, 3.09747822e-01,\n",
       "        3.19738331e-01, 3.29728841e-01, 3.39719350e-01, 3.49709859e-01,\n",
       "        3.59700368e-01, 3.69690877e-01, 3.79681387e-01, 3.89671896e-01,\n",
       "        3.99662405e-01, 4.09652914e-01, 4.19643423e-01, 4.29633933e-01,\n",
       "        4.39624442e-01, 4.49614951e-01, 4.59605460e-01, 4.69595970e-01,\n",
       "        4.79586479e-01, 4.89576988e-01, 4.99567497e-01, 5.09558006e-01,\n",
       "        5.19548516e-01, 5.29539025e-01, 5.39529534e-01, 5.49520043e-01,\n",
       "        5.59510552e-01, 5.69501062e-01, 5.79491571e-01, 5.89482080e-01,\n",
       "        5.99472589e-01, 6.09463098e-01, 6.19453608e-01, 6.29444117e-01,\n",
       "        6.39434626e-01, 6.49425135e-01, 6.59415645e-01, 6.69406154e-01,\n",
       "        6.79396663e-01, 6.89387172e-01, 6.99377681e-01, 7.09368191e-01,\n",
       "        7.19358700e-01, 7.29349209e-01, 7.39339718e-01, 7.49330227e-01,\n",
       "        7.59320737e-01, 7.69311246e-01, 7.79301755e-01, 7.89292264e-01,\n",
       "        7.99282773e-01, 8.09273283e-01, 8.19263792e-01, 8.29254301e-01,\n",
       "        8.39244810e-01, 8.49235320e-01, 8.59225829e-01, 8.69216338e-01,\n",
       "        8.79206847e-01, 8.89197356e-01, 8.99187866e-01, 9.09178375e-01,\n",
       "        9.19168884e-01, 9.29159393e-01, 9.39149902e-01, 9.49140412e-01,\n",
       "        9.59130921e-01, 9.69121430e-01, 9.79111939e-01, 9.89102448e-01,\n",
       "        9.99092958e-01]),\n",
       " <BarContainer object of 100 artists>)"
      ]
     },
     "execution_count": 64,
     "metadata": {},
     "output_type": "execute_result"
    },
    {
     "data": {
      "image/png": "[encoded data removed]",
      "text/plain": [
       "<Figure size 640x480 with 1 Axes>"
      ]
     },
     "metadata": {},
     "output_type": "display_data"
    }
   ],
   "source": [
    "import matplotlib.pyplot as plt\n",
    "plt.hist(A, bins=100)"
   ]
  },
  {
   "cell_type": "code",
   "execution_count": 65,
   "id": "02e01a4a",
   "metadata": {},
   "outputs": [
    {
     "data": {
      "text/plain": [
       "(array([  1.,   1.,   0.,   1.,   0.,   0.,   0.,   1.,   0.,   4.,   0.,\n",
       "          1.,   0.,   1.,   2.,   4.,   2.,   2.,   1.,   3.,   2.,   3.,\n",
       "          3.,   8.,   5.,   3.,   8.,   5.,   7.,   6.,   9.,   8.,  11.,\n",
       "         12.,  16.,  11.,  19.,  15.,  23.,  11.,  21.,  17.,  19.,  21.,\n",
       "         26.,  21.,  35.,  27.,  33.,  35.,  35.,  40.,  47.,  46.,  42.,\n",
       "         48.,  63.,  50.,  56.,  67.,  56.,  57.,  73.,  71.,  73.,  74.,\n",
       "         81.,  82.,  87.,  96.,  87., 104., 119., 104., 135.,  98., 117.,\n",
       "        105., 122., 111., 137., 119., 116., 118., 153., 137., 126., 148.,\n",
       "        148., 112., 132., 130., 147., 152., 144., 141., 163., 126., 152.,\n",
       "        145., 107., 122., 134., 140., 136., 150., 154., 131., 131., 131.,\n",
       "        127., 108., 105., 133., 117.,  95., 129., 117., 104.,  87., 105.,\n",
       "         82.,  93.,  79.,  76.,  82.,  91.,  71.,  84.,  71.,  64.,  73.,\n",
       "         63.,  58.,  53.,  60.,  44.,  54.,  48.,  48.,  44.,  30.,  33.,\n",
       "         45.,  31.,  32.,  30.,  29.,  24.,  21.,  15.,  25.,  19.,  22.,\n",
       "         10.,  12.,  16.,  12.,  13.,  11.,  10.,   9.,   7.,   9.,   9.,\n",
       "          2.,   7.,   5.,   4.,   3.,   8.,   4.,   5.,   5.,   2.,   1.,\n",
       "          5.,   4.,   1.,   0.,   2.,   1.,   1.,   0.,   2.,   0.,   0.,\n",
       "          1.,   0.,   0.,   2.,   1.,   1.,   0.,   0.,   0.,   0.,   0.,\n",
       "          0.,   2.]),\n",
       " array([-3.50970312, -3.47330961, -3.4369161 , -3.40052259, -3.36412909,\n",
       "        -3.32773558, -3.29134207, -3.25494856, -3.21855505, -3.18216154,\n",
       "        -3.14576803, -3.10937452, -3.07298101, -3.0365875 , -3.000194  ,\n",
       "        -2.96380049, -2.92740698, -2.89101347, -2.85461996, -2.81822645,\n",
       "        -2.78183294, -2.74543943, -2.70904592, -2.67265241, -2.6362589 ,\n",
       "        -2.5998654 , -2.56347189, -2.52707838, -2.49068487, -2.45429136,\n",
       "        -2.41789785, -2.38150434, -2.34511083, -2.30871732, -2.27232381,\n",
       "        -2.2359303 , -2.1995368 , -2.16314329, -2.12674978, -2.09035627,\n",
       "        -2.05396276, -2.01756925, -1.98117574, -1.94478223, -1.90838872,\n",
       "        -1.87199521, -1.83560171, -1.7992082 , -1.76281469, -1.72642118,\n",
       "        -1.69002767, -1.65363416, -1.61724065, -1.58084714, -1.54445363,\n",
       "        -1.50806012, -1.47166661, -1.43527311, -1.3988796 , -1.36248609,\n",
       "        -1.32609258, -1.28969907, -1.25330556, -1.21691205, -1.18051854,\n",
       "        -1.14412503, -1.10773152, -1.07133801, -1.03494451, -0.998551  ,\n",
       "        -0.96215749, -0.92576398, -0.88937047, -0.85297696, -0.81658345,\n",
       "        -0.78018994, -0.74379643, -0.70740292, -0.67100942, -0.63461591,\n",
       "        -0.5982224 , -0.56182889, -0.52543538, -0.48904187, -0.45264836,\n",
       "        -0.41625485, -0.37986134, -0.34346783, -0.30707432, -0.27068082,\n",
       "        -0.23428731, -0.1978938 , -0.16150029, -0.12510678, -0.08871327,\n",
       "        -0.05231976, -0.01592625,  0.02046726,  0.05686077,  0.09325428,\n",
       "         0.12964778,  0.16604129,  0.2024348 ,  0.23882831,  0.27522182,\n",
       "         0.31161533,  0.34800884,  0.38440235,  0.42079586,  0.45718937,\n",
       "         0.49358287,  0.52997638,  0.56636989,  0.6027634 ,  0.63915691,\n",
       "         0.67555042,  0.71194393,  0.74833744,  0.78473095,  0.82112446,\n",
       "         0.85751797,  0.89391147,  0.93030498,  0.96669849,  1.003092  ,\n",
       "         1.03948551,  1.07587902,  1.11227253,  1.14866604,  1.18505955,\n",
       "         1.22145306,  1.25784657,  1.29424007,  1.33063358,  1.36702709,\n",
       "         1.4034206 ,  1.43981411,  1.47620762,  1.51260113,  1.54899464,\n",
       "         1.58538815,  1.62178166,  1.65817516,  1.69456867,  1.73096218,\n",
       "         1.76735569,  1.8037492 ,  1.84014271,  1.87653622,  1.91292973,\n",
       "         1.94932324,  1.98571675,  2.02211026,  2.05850376,  2.09489727,\n",
       "         2.13129078,  2.16768429,  2.2040778 ,  2.24047131,  2.27686482,\n",
       "         2.31325833,  2.34965184,  2.38604535,  2.42243886,  2.45883236,\n",
       "         2.49522587,  2.53161938,  2.56801289,  2.6044064 ,  2.64079991,\n",
       "         2.67719342,  2.71358693,  2.74998044,  2.78637395,  2.82276745,\n",
       "         2.85916096,  2.89555447,  2.93194798,  2.96834149,  3.004735  ,\n",
       "         3.04112851,  3.07752202,  3.11391553,  3.15030904,  3.18670255,\n",
       "         3.22309605,  3.25948956,  3.29588307,  3.33227658,  3.36867009,\n",
       "         3.4050636 ,  3.44145711,  3.47785062,  3.51424413,  3.55063764,\n",
       "         3.58703115,  3.62342465,  3.65981816,  3.69621167,  3.73260518,\n",
       "         3.76899869]),\n",
       " <BarContainer object of 200 artists>)"
      ]
     },
     "execution_count": 65,
     "metadata": {},
     "output_type": "execute_result"
    },
    {
     "data": {
      "image/png": "[encoded data removed]",
      "text/plain": [
       "<Figure size 640x480 with 1 Axes>"
      ]
     },
     "metadata": {},
     "output_type": "display_data"
    }
   ],
   "source": [
    "B = np.random.randn(10000)\n",
    "plt.hist(B, bins=200)"
   ]
  },
  {
   "cell_type": "code",
   "execution_count": 66,
   "id": "4a346036",
   "metadata": {},
   "outputs": [],
   "source": [
    "c = np.random.rand(2,3)"
   ]
  },
  {
   "cell_type": "code",
   "execution_count": 67,
   "id": "47f4e8db",
   "metadata": {},
   "outputs": [
    {
     "data": {
      "text/plain": [
       "array([[0.06377493, 0.47972072, 0.65500199],\n",
       "       [0.66158095, 0.81590873, 0.50308537]])"
      ]
     },
     "execution_count": 67,
     "metadata": {},
     "output_type": "execute_result"
    }
   ],
   "source": [
    "c\n"
   ]
  },
  {
   "cell_type": "code",
   "execution_count": 68,
   "id": "05e1224d",
   "metadata": {},
   "outputs": [
    {
     "data": {
      "text/plain": [
       "2"
      ]
     },
     "execution_count": 68,
     "metadata": {},
     "output_type": "execute_result"
    }
   ],
   "source": [
    "c.ndim\n"
   ]
  },
  {
   "cell_type": "code",
   "execution_count": 69,
   "id": "4796c2a3",
   "metadata": {},
   "outputs": [],
   "source": [
    "c = np.random.rand(2,3,4,2)"
   ]
  },
  {
   "cell_type": "code",
   "execution_count": 70,
   "id": "e9eb0df5",
   "metadata": {},
   "outputs": [
    {
     "data": {
      "text/plain": [
       "4"
      ]
     },
     "execution_count": 70,
     "metadata": {},
     "output_type": "execute_result"
    }
   ],
   "source": [
    "c.ndim"
   ]
  },
  {
   "cell_type": "code",
   "execution_count": 71,
   "id": "503b406b",
   "metadata": {},
   "outputs": [],
   "source": [
    "D = np.arange(100).reshape(4,25)"
   ]
  },
  {
   "cell_type": "code",
   "execution_count": 72,
   "id": "a21c5def",
   "metadata": {},
   "outputs": [
    {
     "data": {
      "text/plain": [
       "(4, 25)"
      ]
     },
     "execution_count": 72,
     "metadata": {},
     "output_type": "execute_result"
    }
   ],
   "source": [
    "D.shape"
   ]
  },
  {
   "cell_type": "code",
   "execution_count": 73,
   "id": "f09d0f9b",
   "metadata": {},
   "outputs": [
    {
     "data": {
      "text/plain": [
       "2"
      ]
     },
     "execution_count": 73,
     "metadata": {},
     "output_type": "execute_result"
    }
   ],
   "source": [
    "D.ndim"
   ]
  },
  {
   "cell_type": "code",
   "execution_count": 74,
   "id": "ee66b24d",
   "metadata": {},
   "outputs": [
    {
     "data": {
      "text/plain": [
       "<function numpy.zeros>"
      ]
     },
     "execution_count": 74,
     "metadata": {},
     "output_type": "execute_result"
    }
   ],
   "source": [
    "np.zeros"
   ]
  },
  {
   "cell_type": "code",
   "execution_count": 75,
   "id": "a745e22a",
   "metadata": {},
   "outputs": [
    {
     "data": {
      "text/plain": [
       "<function numpy.ones(shape, dtype=None, order='C', *, like=None)>"
      ]
     },
     "execution_count": 75,
     "metadata": {},
     "output_type": "execute_result"
    }
   ],
   "source": [
    "np.ones"
   ]
  },
  {
   "cell_type": "code",
   "execution_count": null,
   "id": "5b9a0b01",
   "metadata": {},
   "outputs": [],
   "source": [
    " "
   ]
  }
 ],
 "metadata": {
  "kernelspec": {
   "display_name": "Python 3 (ipykernel)",
   "language": "python",
   "name": "python3"
  },
  "language_info": {
   "codemirror_mode": {
    "name": "ipython",
    "version": 3
   },
   "file_extension": ".py",
   "mimetype": "text/x-python",
   "name": "python",
   "nbconvert_exporter": "python",
   "pygments_lexer": "ipython3",
   "version": "3.11.5"
  }
 },
 "nbformat": 4,
 "nbformat_minor": 5
}
