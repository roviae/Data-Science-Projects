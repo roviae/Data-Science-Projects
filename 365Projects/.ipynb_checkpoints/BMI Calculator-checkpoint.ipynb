{
 "cells": [
  {
   "cell_type": "markdown",
   "id": "739f7d89",
   "metadata": {},
   "source": [
    "BMI CALCULATOR"
   ]
  },
  {
   "cell_type": "code",
   "execution_count": 1,
   "id": "f0bca42c",
   "metadata": {},
   "outputs": [],
   "source": [
    "#BMI = (weight in pounds * 703)/ (height in inches * height in inches)\n"
   ]
  },
  {
   "cell_type": "code",
   "execution_count": 2,
   "id": "a30e0cbf",
   "metadata": {},
   "outputs": [
    {
     "name": "stdout",
     "output_type": "stream",
     "text": [
      "Enter your weight in pounds:170\n",
      "Enter your height in inches:69\n",
      "25.101869355177485\n",
      "You are overrweight\n"
     ]
    }
   ],
   "source": [
    "weight = int(input(\"Enter your weight in pounds:\"))\n",
    "height = int(input(\"Enter your height in inches:\"))\n",
    "BMI = (weight*703)/(height**2)\n",
    "print(BMI) \n",
    "\n",
    "if BMI > 0:\n",
    "    if BMI < 18.5:\n",
    "        print(\"You are underweight\")\n",
    "    elif BMI > 24.5:\n",
    "        print(\"You are overrweight\")\n",
    "    elif BMI > 29.9:\n",
    "        print(\"You are obese\")\n",
    "    elif BMI > 39.5:\n",
    "        print(\"You are morbidly obese\")\n",
    "else:\n",
    "    print(\"Enter a valid number\")\n",
    "           "
   ]
  },
  {
   "cell_type": "code",
   "execution_count": null,
   "id": "cca0e784",
   "metadata": {},
   "outputs": [],
   "source": [
    "\n"
   ]
  },
  {
   "cell_type": "code",
   "execution_count": null,
   "id": "5224c0ff",
   "metadata": {},
   "outputs": [],
   "source": []
  },
  {
   "cell_type": "code",
   "execution_count": null,
   "id": "3c420d16",
   "metadata": {},
   "outputs": [],
   "source": []
  }
 ],
 "metadata": {
  "kernelspec": {
   "display_name": "Python 3 (ipykernel)",
   "language": "python",
   "name": "python3"
  },
  "language_info": {
   "codemirror_mode": {
    "name": "ipython",
    "version": 3
   },
   "file_extension": ".py",
   "mimetype": "text/x-python",
   "name": "python",
   "nbconvert_exporter": "python",
   "pygments_lexer": "ipython3",
   "version": "3.11.5"
  }
 },
 "nbformat": 4,
 "nbformat_minor": 5
}
